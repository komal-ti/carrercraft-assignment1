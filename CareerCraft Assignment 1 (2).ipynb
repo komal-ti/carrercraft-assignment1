{
 "cells": [
  {
   "cell_type": "markdown",
   "id": "93675bd8",
   "metadata": {},
   "source": [
    "Q 1: Check Even or Odd\n",
    "Write a program to check if a number entered by the user is even or odd."
   ]
  },
  {
   "cell_type": "code",
   "execution_count": 1,
   "id": "453652ce",
   "metadata": {},
   "outputs": [
    {
     "name": "stdout",
     "output_type": "stream",
     "text": [
      "5 is odd.\n"
     ]
    }
   ],
   "source": [
    "# Take input from the user\n",
    "number = int(input(\"Enter a number: \"))\n",
    "\n",
    "# Check if the number is even or odd\n",
    "if number % 2 == 0:\n",
    "    print(f\"{number} is even.\")\n",
    "else:\n",
    "    print(f\"{number} is odd.\")\n"
   ]
  },
  {
   "cell_type": "markdown",
   "id": "484da0a9",
   "metadata": {},
   "source": [
    "Q2: Calculate Monthly In-hand Salary after Deductions\n",
    "Write a program that will give you the in-hand monthly salary after deductions on CTC, with HRA (10%), DA (5%), PF (3%), and the following tax slabs:\n",
    "\n",
    "Salary (Lakhs): Tax (%)\n",
    "Below 5: 0%\n",
    "5-10: 10%\n",
    "10-20: 20%\n",
    "Above 20: 30%"
   ]
  },
  {
   "cell_type": "code",
   "execution_count": 3,
   "id": "933fe307",
   "metadata": {},
   "outputs": [
    {
     "name": "stdout",
     "output_type": "stream",
     "text": [
      "Your in-hand monthly salary after deductions is: ₹16750.00\n"
     ]
    }
   ],
   "source": [
    "# Function to calculate tax based on salary\n",
    "def calculate_tax(salary):\n",
    "    if salary < 5:\n",
    "        return 0\n",
    "    elif 5 <= salary < 10:\n",
    "        return 0.1 * salary\n",
    "    elif 10 <= salary < 20:\n",
    "        return 0.2 * salary\n",
    "    else:\n",
    "        return 0.3 * salary\n",
    "\n",
    "# Function to calculate monthly in-hand salary\n",
    "def calculate_inhand_salary(ctc):\n",
    "    # CTC breakdown\n",
    "    hra = 0.1 * ctc  # HRA is 10% of CTC\n",
    "    da = 0.05 * ctc  # DA is 5% of CTC\n",
    "    pf = 0.03 * ctc  # PF is 3% of CTC\n",
    "\n",
    "    # Annual salary components\n",
    "    annual_salary = ctc\n",
    "\n",
    "    # Calculate tax deduction\n",
    "    tax = calculate_tax(annual_salary)\n",
    "\n",
    "    # Total deductions (PF and Tax)\n",
    "    total_deductions = pf + tax\n",
    "\n",
    "    # Monthly salary before deductions\n",
    "    monthly_salary_before_deductions = annual_salary / 12\n",
    "\n",
    "    # In-hand monthly salary\n",
    "    inhand_salary = monthly_salary_before_deductions - (total_deductions / 12)\n",
    "\n",
    "    return inhand_salary\n",
    "\n",
    "# Input CTC from the user\n",
    "ctc = float(input(\"Enter your CTC (in lakhs): \"))\n",
    "\n",
    "# Calculate and print the in-hand monthly salary\n",
    "inhand_salary = calculate_inhand_salary(ctc)\n",
    "print(f\"Your in-hand monthly salary after deductions is: ₹{inhand_salary:.2f}\")\n"
   ]
  },
  {
   "cell_type": "markdown",
   "id": "cddd93d4",
   "metadata": {},
   "source": [
    "Ques3: Determine Profit or Loss\n",
    "Write a program that takes cost price and selling price as input and determines if it's a profit or loss."
   ]
  },
  {
   "cell_type": "code",
   "execution_count": 4,
   "id": "2e27d984",
   "metadata": {},
   "outputs": [
    {
     "name": "stdout",
     "output_type": "stream",
     "text": [
      "Loss of ₹640.00\n"
     ]
    }
   ],
   "source": [
    "# Function to calculate profit or loss\n",
    "def calculate_profit_or_loss(cost_price, selling_price):\n",
    "    if selling_price > cost_price:\n",
    "        profit = selling_price - cost_price\n",
    "        return f\"Profit of ₹{profit:.2f}\"\n",
    "    elif selling_price < cost_price:\n",
    "        loss = cost_price - selling_price\n",
    "        return f\"Loss of ₹{loss:.2f}\"\n",
    "    else:\n",
    "        return \"No profit, no loss\"\n",
    "\n",
    "# Input cost price and selling price\n",
    "cost_price = float(input(\"Enter the cost price: ₹\"))\n",
    "selling_price = float(input(\"Enter the selling price: ₹\"))\n",
    "\n",
    "# Determine and print profit or loss\n",
    "result = calculate_profit_or_loss(cost_price, selling_price)\n",
    "print(result)\n"
   ]
  },
  {
   "cell_type": "markdown",
   "id": "f7343d83",
   "metadata": {},
   "source": [
    "Q4: Display the First 10 Terms of the Fibonacci Series\n",
    "Write a program to print the first 10 terms of the Fibonacci series."
   ]
  },
  {
   "cell_type": "code",
   "execution_count": 5,
   "id": "9298cc2b",
   "metadata": {},
   "outputs": [
    {
     "name": "stdout",
     "output_type": "stream",
     "text": [
      "0 1 1 2 3 5 8 13 21 34 "
     ]
    }
   ],
   "source": [
    "# Function to print the first 10 terms of the Fibonacci series\n",
    "def fibonacci_series(n):\n",
    "    a, b = 0, 1  # Initializing the first two terms of the Fibonacci series\n",
    "    for _ in range(n):\n",
    "        print(a, end=\" \")  # Print the current term\n",
    "        a, b = b, a + b  # Update values of a and b for the next term\n",
    "\n",
    "# Display the first 10 terms of the Fibonacci series\n",
    "fibonacci_series(10)\n"
   ]
  },
  {
   "cell_type": "markdown",
   "id": "f4a5a8a1",
   "metadata": {},
   "source": [
    "Q5: Calculate Factorial of a Number\n",
    "Write a program to find the factorial of a given number."
   ]
  },
  {
   "cell_type": "code",
   "execution_count": 7,
   "id": "810fd1e7",
   "metadata": {},
   "outputs": [
    {
     "name": "stdout",
     "output_type": "stream",
     "text": [
      "The factorial of 7 is 5040\n"
     ]
    }
   ],
   "source": [
    "# Function to calculate the factorial of a number\n",
    "def factorial(n):\n",
    "    if n == 0 or n == 1:\n",
    "        return 1  # Factorial of 0 or 1 is 1\n",
    "    else:\n",
    "        result = 1\n",
    "        for i in range(2, n + 1):\n",
    "            result *= i  # Multiply result by each number from 2 to n\n",
    "        return result\n",
    "\n",
    "# Input number from the user\n",
    "number = int(input(\"Enter a number: \"))\n",
    "\n",
    "# Calculate and print the factorial\n",
    "print(f\"The factorial of {number} is {factorial(number)}\")\n"
   ]
  },
  {
   "cell_type": "markdown",
   "id": "9962c977",
   "metadata": {},
   "source": [
    "Q6: Reverse a Given Integer without uing inbuilt function\n",
    "Write a program to reverse a given integer numbe"
   ]
  },
  {
   "cell_type": "code",
   "execution_count": 8,
   "id": "7b9b1ce3",
   "metadata": {},
   "outputs": [
    {
     "name": "stdout",
     "output_type": "stream",
     "text": [
      "The reversed number is 7\n"
     ]
    }
   ],
   "source": [
    "# Function to reverse a given integer\n",
    "def reverse_integer(num):\n",
    "    reversed_num = 0\n",
    "    while num > 0:\n",
    "        digit = num % 10  # Get the last digit\n",
    "        reversed_num = reversed_num * 10 + digit  # Append the digit to reversed_num\n",
    "        num = num // 10  # Remove the last digit from num\n",
    "    return reversed_num\n",
    "\n",
    "# Input number from the user\n",
    "number = int(input(\"Enter an integer: \"))\n",
    "\n",
    "# Reverse the number and print it\n",
    "reversed_number = reverse_integer(number)\n",
    "print(f\"The reversed number is {reversed_number}\")\n"
   ]
  },
  {
   "cell_type": "markdown",
   "id": "411b20ad",
   "metadata": {},
   "source": [
    "Q7: Sum from 1 to N with Conditions\n",
    "Take a user input integer N and find the sum from 1 to N. Skip numbers divisible by 5, and stop if the sum exceeds 300."
   ]
  },
  {
   "cell_type": "code",
   "execution_count": 9,
   "id": "e00585fc",
   "metadata": {},
   "outputs": [
    {
     "name": "stdout",
     "output_type": "stream",
     "text": [
      "The sum with the given conditions is: 16\n"
     ]
    }
   ],
   "source": [
    "# Function to calculate the sum with conditions\n",
    "def sum_with_conditions(n):\n",
    "    total_sum = 0\n",
    "    for i in range(1, n + 1):\n",
    "        if i % 5 == 0:  # Skip numbers divisible by 5\n",
    "            continue\n",
    "        total_sum += i\n",
    "        if total_sum > 300:  # Stop if the sum exceeds 300\n",
    "            break\n",
    "    return total_sum\n",
    "\n",
    "# Input integer N from the user\n",
    "n = int(input(\"Enter an integer N: \"))\n",
    "\n",
    "# Calculate and print the sum\n",
    "result = sum_with_conditions(n)\n",
    "print(f\"The sum with the given conditions is: {result}\")\n"
   ]
  },
  {
   "cell_type": "markdown",
   "id": "cda01133",
   "metadata": {},
   "source": [
    "Q8: Accept Numbers Until Zero, Then Display Sum and Average\n",
    "Write a program that keeps accepting numbers until the user enters zero. Display the sum and average of all numbers."
   ]
  },
  {
   "cell_type": "code",
   "execution_count": 10,
   "id": "b033379d",
   "metadata": {},
   "outputs": [
    {
     "name": "stdout",
     "output_type": "stream",
     "text": [
      "The sum of the entered numbers is: 60.0\n",
      "The average of the entered numbers is: 20.0\n"
     ]
    }
   ],
   "source": [
    "# Function to accept numbers until zero and calculate sum and average\n",
    "def calculate_sum_and_average():\n",
    "    total_sum = 0\n",
    "    count = 0\n",
    "    \n",
    "    while True:\n",
    "        number = float(input(\"Enter a number (enter 0 to stop): \"))\n",
    "        \n",
    "        if number == 0:\n",
    "            break  # Stop when the user enters 0\n",
    "            \n",
    "        total_sum += number\n",
    "        count += 1\n",
    "    \n",
    "    if count == 0:\n",
    "        return total_sum, 0  # To avoid division by zero if no numbers are entered\n",
    "    else:\n",
    "        average = total_sum / count\n",
    "        return total_sum, average\n",
    "\n",
    "# Calculate and display sum and average\n",
    "sum_result, average_result = calculate_sum_and_average()\n",
    "print(f\"The sum of the entered numbers is: {sum_result}\")\n",
    "print(f\"The average of the entered numbers is: {average_result}\")\n"
   ]
  },
  {
   "cell_type": "markdown",
   "id": "066be3bf",
   "metadata": {},
   "source": [
    "Q9: Find Numbers Divisible by 7 but Not by 5\n",
    "Write a program to find numbers between 2000 and 3200 that are divisible by 7 but not multiples of 5. Display them in a comma-separated sequence"
   ]
  },
  {
   "cell_type": "code",
   "execution_count": 11,
   "id": "e482b570",
   "metadata": {},
   "outputs": [
    {
     "name": "stdout",
     "output_type": "stream",
     "text": [
      "2002, 2009, 2016, 2023, 2037, 2044, 2051, 2058, 2072, 2079, 2086, 2093, 2107, 2114, 2121, 2128, 2142, 2149, 2156, 2163, 2177, 2184, 2191, 2198, 2212, 2219, 2226, 2233, 2247, 2254, 2261, 2268, 2282, 2289, 2296, 2303, 2317, 2324, 2331, 2338, 2352, 2359, 2366, 2373, 2387, 2394, 2401, 2408, 2422, 2429, 2436, 2443, 2457, 2464, 2471, 2478, 2492, 2499, 2506, 2513, 2527, 2534, 2541, 2548, 2562, 2569, 2576, 2583, 2597, 2604, 2611, 2618, 2632, 2639, 2646, 2653, 2667, 2674, 2681, 2688, 2702, 2709, 2716, 2723, 2737, 2744, 2751, 2758, 2772, 2779, 2786, 2793, 2807, 2814, 2821, 2828, 2842, 2849, 2856, 2863, 2877, 2884, 2891, 2898, 2912, 2919, 2926, 2933, 2947, 2954, 2961, 2968, 2982, 2989, 2996, 3003, 3017, 3024, 3031, 3038, 3052, 3059, 3066, 3073, 3087, 3094, 3101, 3108, 3122, 3129, 3136, 3143, 3157, 3164, 3171, 3178, 3192, 3199\n"
     ]
    }
   ],
   "source": [
    "# Function to find numbers divisible by 7 but not by 5\n",
    "def find_numbers():\n",
    "    result = []\n",
    "    for num in range(2000, 3201):\n",
    "        if num % 7 == 0 and num % 5 != 0:\n",
    "            result.append(str(num))  # Add number to result as a string\n",
    "    \n",
    "    # Join the numbers with a comma and return the result\n",
    "    return \", \".join(result)\n",
    "\n",
    "# Find and display the numbers\n",
    "numbers = find_numbers()\n",
    "print(numbers)\n"
   ]
  },
  {
   "cell_type": "markdown",
   "id": "3c7a43e3",
   "metadata": {},
   "source": [
    "Q10. Calculate the Angle Between Clock Hands\n",
    "Write a program to calculate the angle between the hour and minute hands of a clock, given time in H hours and M minutes."
   ]
  },
  {
   "cell_type": "code",
   "execution_count": 12,
   "id": "1df85567",
   "metadata": {},
   "outputs": [
    {
     "name": "stdout",
     "output_type": "stream",
     "text": [
      "The angle between the hour and minute hands is 152.50 degrees.\n"
     ]
    }
   ],
   "source": [
    "# Function to calculate the angle between the clock hands\n",
    "def calculate_angle(hour, minute):\n",
    "    # Normalize the hour to a 12-hour format\n",
    "    if hour > 12:\n",
    "        hour -= 12\n",
    "    \n",
    "    # Calculate the position of the minute hand\n",
    "    minute_angle = 6 * minute  # 360 degrees / 60 minutes = 6 degrees per minute\n",
    "    \n",
    "    # Calculate the position of the hour hand\n",
    "    hour_angle = (30 * hour) + (minute * 0.5)  # 360 degrees / 12 hours = 30 degrees per hour, plus 0.5 degrees per minute\n",
    "    \n",
    "    # Calculate the absolute difference between the two angles\n",
    "    angle = abs(hour_angle - minute_angle)\n",
    "    \n",
    "    # The smaller angle between the hands is the one we are interested in\n",
    "    if angle > 180:\n",
    "        angle = 360 - angle  # If the angle is greater than 180 degrees, take the complement\n",
    "    \n",
    "    return angle\n",
    "\n",
    "# Input time from the user\n",
    "hour = int(input(\"Enter the hour (1-12): \"))\n",
    "minute = int(input(\"Enter the minute (0-59): \"))\n",
    "\n",
    "# Calculate the angle and display it\n",
    "angle = calculate_angle(hour, minute)\n",
    "print(f\"The angle between the hour and minute hands is {angle:.2f} degrees.\")\n"
   ]
  },
  {
   "cell_type": "markdown",
   "id": "11b6fe79",
   "metadata": {},
   "source": [
    "Q11. Check for Rectangle Overlap\n",
    "Write a program to check if two rectangles overlap, given the coordinates of their top-left and bottom-right corners."
   ]
  },
  {
   "cell_type": "code",
   "execution_count": 18,
   "id": "804860c5",
   "metadata": {},
   "outputs": [
    {
     "name": "stdout",
     "output_type": "stream",
     "text": [
      "The rectangles overlap.\n"
     ]
    }
   ],
   "source": [
    "# Function to check if two rectangles overlap\n",
    "def do_rectangles_overlap(rect1, rect2):\n",
    "    # Extract the coordinates of the rectangles\n",
    "    x1, y1, x2, y2 = rect1  # Coordinates of the first rectangle (top-left, bottom-right)\n",
    "    x3, y3, x4, y4 = rect2  # Coordinates of the second rectangle (top-left, bottom-right)\n",
    "\n",
    "    # Check if one rectangle is to the left of the other\n",
    "    if x1 >= x4 or x3 >= x2:\n",
    "        return False\n",
    "    \n",
    "    # Check if one rectangle is above the other\n",
    "    if y1 <= y4 or y3 <= y2:\n",
    "        return False\n",
    "    \n",
    "    return True\n",
    "\n",
    "# Input the coordinates of the two rectangles\n",
    "rect1 = list(map(int, input(\"Enter the coordinates of the first rectangle (x1, y1, x2, y2): \").split()))\n",
    "rect2 = list(map(int, input(\"Enter the coordinates of the second rectangle (x3, y3, x4, y4): \").split()))\n",
    "\n",
    "# Check for overlap and display the result\n",
    "if do_rectangles_overlap(rect1, rect2):\n",
    "    print(\"The rectangles overlap.\")\n",
    "else:\n",
    "    print(\"The rectangles do not overlap.\")\n"
   ]
  },
  {
   "cell_type": "markdown",
   "id": "4647fc20",
   "metadata": {},
   "source": [
    "Q12. Calculate the Number of Bottles That Can Fit in a Tank\n",
    "Given the volume of a water tank and the volume of a single bottle, calculate how many bottles of water can be filled from the tank. Assume all inputs are provided by the user."
   ]
  },
  {
   "cell_type": "code",
   "execution_count": 19,
   "id": "87232fd1",
   "metadata": {},
   "outputs": [
    {
     "name": "stdout",
     "output_type": "stream",
     "text": [
      "The number of bottles that can fit in the tank is: 1.0\n"
     ]
    }
   ],
   "source": [
    "# Function to calculate how many bottles fit in the tank\n",
    "def calculate_bottles_in_tank(tank_volume, bottle_volume):\n",
    "    # Calculate the number of bottles that fit in the tank\n",
    "    if bottle_volume == 0:\n",
    "        return 0  # Avoid division by zero if bottle volume is 0\n",
    "    return tank_volume // bottle_volume  # Use integer division for whole bottles\n",
    "\n",
    "# Input: volume of the tank and volume of a single bottle\n",
    "try:\n",
    "    tank_volume = float(input(\"Enter the volume of the water tank (in liters): \"))\n",
    "    bottle_volume = float(input(\"Enter the volume of a single bottle (in liters): \"))\n",
    "    \n",
    "    # Ensure that the input values are positive\n",
    "    if tank_volume <= 0 or bottle_volume <= 0:\n",
    "        raise ValueError(\"Both the tank volume and bottle volume must be positive values.\")\n",
    "    \n",
    "    # Calculate and display the result\n",
    "    bottles = calculate_bottles_in_tank(tank_volume, bottle_volume)\n",
    "    print(f\"The number of bottles that can fit in the tank is: {bottles}\")\n",
    "\n",
    "except ValueError as ve:\n",
    "    print(f\"Error: {ve}\")\n"
   ]
  },
  {
   "cell_type": "markdown",
   "id": "ba425f10",
   "metadata": {},
   "source": [
    "Q13. Find the Nth Term of a Geometric Sequence\n",
    "Given the first term and common ratio of a geometric sequence, find the Nth term. Assume all inputs are provided by the user."
   ]
  },
  {
   "cell_type": "code",
   "execution_count": 21,
   "id": "112cd123",
   "metadata": {},
   "outputs": [
    {
     "name": "stdout",
     "output_type": "stream",
     "text": [
      "The 7th term of the geometric sequence is: 470596.0\n"
     ]
    }
   ],
   "source": [
    "#T \n",
    "#n =a×r (n−1)\n",
    "# Function to calculate the Nth term of a geometric sequence\n",
    "def geometric_sequence_nth_term(a, r, n):\n",
    "    return a * (r ** (n - 1))  # Using the formula for Nth term\n",
    "\n",
    "# Input: first term, common ratio, and term number (N)\n",
    "try:\n",
    "    a = float(input(\"Enter the first term of the geometric sequence: \"))\n",
    "    r = float(input(\"Enter the common ratio of the geometric sequence: \"))\n",
    "    n = int(input(\"Enter the term number (N) to find: \"))\n",
    "    \n",
    "    # Ensure that the term number is positive\n",
    "    if n <= 0:\n",
    "        raise ValueError(\"The term number (N) must be a positive integer.\")\n",
    "    \n",
    "    # Calculate and display the Nth term\n",
    "    nth_term = geometric_sequence_nth_term(a, r, n)\n",
    "    print(f\"The {n}th term of the geometric sequence is: {nth_term}\")\n",
    "\n",
    "except ValueError as ve:\n",
    "    print(f\"Error: {ve}\")\n"
   ]
  },
  {
   "cell_type": "markdown",
   "id": "9dd20877",
   "metadata": {},
   "source": [
    "Q14. Sum of Cubes of First N Natural Numbers\n",
    "Write a program to find the sum of cubes of the first n natural numbers. The user will provide the value of n."
   ]
  },
  {
   "cell_type": "code",
   "execution_count": 22,
   "id": "d41dbc5e",
   "metadata": {},
   "outputs": [
    {
     "name": "stdout",
     "output_type": "stream",
     "text": [
      "The sum of the cubes of the first 6 natural numbers is: 441\n"
     ]
    }
   ],
   "source": [
    "# Function to calculate the sum of cubes of the first n natural numbers\n",
    "def sum_of_cubes(n):\n",
    "    # Using the formula (n(n+1)/2)^2\n",
    "    return (n * (n + 1) // 2) ** 2\n",
    "\n",
    "# Input: number n\n",
    "try:\n",
    "    n = int(input(\"Enter a number n to find the sum of cubes of the first n natural numbers: \"))\n",
    "    \n",
    "    # Ensure that n is a positive integer\n",
    "    if n <= 0:\n",
    "        raise ValueError(\"Please enter a positive integer.\")\n",
    "    \n",
    "    # Calculate and display the sum of cubes\n",
    "    result = sum_of_cubes(n)\n",
    "    print(f\"The sum of the cubes of the first {n} natural numbers is: {result}\")\n",
    "\n",
    "except ValueError as ve:\n",
    "    print(f\"Error: {ve}\")\n"
   ]
  },
  {
   "cell_type": "markdown",
   "id": "927d60d5",
   "metadata": {},
   "source": [
    "Ques15. Calculate the Manhattan Distance Between Two Points\n",
    "Write a program to calculate the Manhattan distance between two coordinates in a 2D plane. Take both coordinates from the user as input."
   ]
  },
  {
   "cell_type": "code",
   "execution_count": 24,
   "id": "44fdcae9",
   "metadata": {},
   "outputs": [
    {
     "name": "stdout",
     "output_type": "stream",
     "text": [
      "The Manhattan distance between the two points is: 2\n"
     ]
    }
   ],
   "source": [
    "# Function to calculate the Manhattan distance between two points\n",
    "def manhattan_distance(x1, y1, x2, y2):\n",
    "    return abs(x2 - x1) + abs(y2 - y1)\n",
    "\n",
    "# Input: coordinates of the two points\n",
    "try:\n",
    "    # Get coordinates of the first point\n",
    "    x1, y1 = map(int, input(\"Enter the coordinates of the first point (x1, y1): \").split())\n",
    "    \n",
    "    # Get coordinates of the second point\n",
    "    x2, y2 = map(int, input(\"Enter the coordinates of the second point (x2, y2): \").split())\n",
    "    \n",
    "    # Calculate and display the Manhattan distance\n",
    "    distance = manhattan_distance(x1, y1, x2, y2)\n",
    "    print(f\"The Manhattan distance between the two points is: {distance}\")\n",
    "\n",
    "except ValueError as ve:\n",
    "    print(f\"Error: {ve}\")\n"
   ]
  },
  {
   "cell_type": "markdown",
   "id": "8b15d674",
   "metadata": {},
   "source": [
    "Q16. Swap Two Numbers Without Using a Third Variable\n",
    "Take two integers as input from the user. Write a program to swap their values without using a third variable."
   ]
  },
  {
   "cell_type": "code",
   "execution_count": 25,
   "id": "db1d84d6",
   "metadata": {},
   "outputs": [
    {
     "name": "stdout",
     "output_type": "stream",
     "text": [
      "After swapping, the first number is: 5 and the second number is: 3\n"
     ]
    }
   ],
   "source": [
    "# Function to swap two numbers without using a third variable\n",
    "def swap_numbers(a, b):\n",
    "    # Swap using addition and subtraction\n",
    "    a = a + b  # Step 1: a now holds the sum of a and b\n",
    "    b = a - b  # Step 2: b is assigned the original value of a\n",
    "    a = a - b  # Step 3: a is assigned the original value of b\n",
    "    return a, b\n",
    "\n",
    "# Input: two integers from the user\n",
    "try:\n",
    "    a, b = map(int, input(\"Enter two integers separated by space: \").split())\n",
    "    \n",
    "    # Swap the numbers\n",
    "    a, b = swap_numbers(a, b)\n",
    "    \n",
    "    # Display the swapped values\n",
    "    print(f\"After swapping, the first number is: {a} and the second number is: {b}\")\n",
    "\n",
    "except ValueError as ve:\n",
    "    print(f\"Error: {ve}\")\n"
   ]
  },
  {
   "cell_type": "markdown",
   "id": "0e2a11fe",
   "metadata": {},
   "source": [
    "Q17. Convert Kilometers to Miles\n",
    "Write a program to convert a distance from kilometers to miles. Assume 1 kilometer is approximately 0.621371 miles."
   ]
  },
  {
   "cell_type": "code",
   "execution_count": 26,
   "id": "04a8325f",
   "metadata": {},
   "outputs": [
    {
     "name": "stdout",
     "output_type": "stream",
     "text": [
      "70.0 kilometers is equal to 43.50 miles.\n"
     ]
    }
   ],
   "source": [
    "# Function to convert kilometers to miles\n",
    "def km_to_miles(km):\n",
    "    return km * 0.621371\n",
    "\n",
    "# Input: distance in kilometers\n",
    "try:\n",
    "    km = float(input(\"Enter the distance in kilometers: \"))\n",
    "    \n",
    "    # Ensure that the input is non-negative\n",
    "    if km < 0:\n",
    "        raise ValueError(\"The distance cannot be negative.\")\n",
    "    \n",
    "    # Convert and display the result\n",
    "    miles = km_to_miles(km)\n",
    "    print(f\"{km} kilometers is equal to {miles:.2f} miles.\")\n",
    "\n",
    "except ValueError as ve:\n",
    "    print(f\"Error: {ve}\")\n"
   ]
  },
  {
   "cell_type": "markdown",
   "id": "6a865643",
   "metadata": {},
   "source": [
    "Q18. Sum and Average of Entered Numbers\n",
    "Write a program that keeps accepting numbers from the user until zero is entered. Display the sum and average of the numbers."
   ]
  },
  {
   "cell_type": "code",
   "execution_count": 27,
   "id": "3114a30d",
   "metadata": {},
   "outputs": [
    {
     "name": "stdout",
     "output_type": "stream",
     "text": [
      "Sum of the numbers: 32.0\n",
      "Average of the numbers: 5.33\n"
     ]
    }
   ],
   "source": [
    "# Function to calculate the sum and average of entered numbers\n",
    "def sum_and_average():\n",
    "    total_sum = 0\n",
    "    count = 0\n",
    "    \n",
    "    while True:\n",
    "        try:\n",
    "            num = float(input(\"Enter a number (enter 0 to stop): \"))\n",
    "            \n",
    "            if num == 0:\n",
    "                break  # Exit the loop if the user enters 0\n",
    "            \n",
    "            total_sum += num  # Add the number to the total sum\n",
    "            count += 1  # Increment the count of numbers\n",
    "            \n",
    "        except ValueError:\n",
    "            print(\"Invalid input! Please enter a valid number.\")\n",
    "    \n",
    "    if count == 0:\n",
    "        print(\"No numbers were entered.\")\n",
    "    else:\n",
    "        average = total_sum / count  # Calculate the average\n",
    "        print(f\"Sum of the numbers: {total_sum}\")\n",
    "        print(f\"Average of the numbers: {average:.2f}\")\n",
    "\n",
    "# Call the function\n",
    "sum_and_average()\n"
   ]
  },
  {
   "cell_type": "markdown",
   "id": "3e03a308",
   "metadata": {},
   "source": [
    "Q19. Using conditional statement design a menu driven calculator. It should take two operands \n",
    "and operation to be done as input and do the calculation."
   ]
  },
  {
   "cell_type": "code",
   "execution_count": 28,
   "id": "ac541f0d",
   "metadata": {},
   "outputs": [
    {
     "name": "stdout",
     "output_type": "stream",
     "text": [
      "\n",
      "Menu:\n",
      "1. Add\n",
      "2. Subtract\n",
      "3. Multiply\n",
      "4. Divide\n",
      "5. Exit\n",
      "Result: 2.0 + 3.0 = 5.0\n",
      "\n",
      "Menu:\n",
      "1. Add\n",
      "2. Subtract\n",
      "3. Multiply\n",
      "4. Divide\n",
      "5. Exit\n",
      "Exiting the calculator. Goodbye!\n"
     ]
    }
   ],
   "source": [
    "# Function to perform addition\n",
    "def add(x, y):\n",
    "    return x + y\n",
    "\n",
    "# Function to perform subtraction\n",
    "def subtract(x, y):\n",
    "    return x - y\n",
    "\n",
    "# Function to perform multiplication\n",
    "def multiply(x, y):\n",
    "    return x * y\n",
    "\n",
    "# Function to perform division\n",
    "def divide(x, y):\n",
    "    if y == 0:\n",
    "        return \"Error! Division by zero.\"\n",
    "    else:\n",
    "        return x / y\n",
    "\n",
    "# Main function to drive the menu-driven calculator\n",
    "def calculator():\n",
    "    while True:\n",
    "        # Display the menu\n",
    "        print(\"\\nMenu:\")\n",
    "        print(\"1. Add\")\n",
    "        print(\"2. Subtract\")\n",
    "        print(\"3. Multiply\")\n",
    "        print(\"4. Divide\")\n",
    "        print(\"5. Exit\")\n",
    "        \n",
    "        # Get the operation choice from the user\n",
    "        choice = input(\"Enter choice (1/2/3/4/5): \")\n",
    "        \n",
    "        if choice == '5':\n",
    "            print(\"Exiting the calculator. Goodbye!\")\n",
    "            break  # Exit the loop and end the program\n",
    "        \n",
    "        # Ensure valid choice\n",
    "        if choice in ['1', '2', '3', '4']:\n",
    "            try:\n",
    "                # Get the operands from the user\n",
    "                x = float(input(\"Enter first operand: \"))\n",
    "                y = float(input(\"Enter second operand: \"))\n",
    "                \n",
    "                # Perform the operation based on the user's choice\n",
    "                if choice == '1':\n",
    "                    print(f\"Result: {x} + {y} = {add(x, y)}\")\n",
    "                elif choice == '2':\n",
    "                    print(f\"Result: {x} - {y} = {subtract(x, y)}\")\n",
    "                elif choice == '3':\n",
    "                    print(f\"Result: {x} * {y} = {multiply(x, y)}\")\n",
    "                elif choice == '4':\n",
    "                    print(f\"Result: {x} / {y} = {divide(x, y)}\")\n",
    "                \n",
    "            except ValueError:\n",
    "                print(\"Invalid input! Please enter numeric values.\")\n",
    "        else:\n",
    "            print(\"Invalid choice! Please select a valid operation.\")\n",
    "\n",
    "# Run the calculator\n",
    "calculator()\n"
   ]
  },
  {
   "cell_type": "markdown",
   "id": "13544cb6",
   "metadata": {},
   "source": [
    "Q20. Make a restaurant menu and suggest best dish for a veg starter except paneer."
   ]
  },
  {
   "cell_type": "code",
   "execution_count": 30,
   "id": "b1b7dfef",
   "metadata": {},
   "outputs": [
    {
     "name": "stdout",
     "output_type": "stream",
     "text": [
      "Welcome to the Restaurant!\n",
      "\n",
      "Menu:\n",
      "1. Vegetarian Starters\n",
      "2. Main Course\n",
      "3. Desserts\n",
      "4. Exit\n",
      "\n",
      "Desserts Menu:\n",
      "1. Gulab Jamun\n",
      "2. Jalebi\n",
      "3. Gajar ka Halwa\n",
      "4. Rasgulla\n",
      "\n",
      "Menu:\n",
      "1. Vegetarian Starters\n",
      "2. Main Course\n",
      "3. Desserts\n",
      "4. Exit\n",
      "Invalid choice! Please select a valid option.\n",
      "\n",
      "Menu:\n",
      "1. Vegetarian Starters\n",
      "2. Main Course\n",
      "3. Desserts\n",
      "4. Exit\n",
      "Thank you for visiting! Goodbye!\n"
     ]
    }
   ],
   "source": [
    "# Function to suggest a vegetarian starter (excluding paneer)\n",
    "def suggest_best_veg_starter():\n",
    "    # List of vegetarian starters (excluding paneer)\n",
    "    veg_starters = [\n",
    "        \"Veg Pakora\",\n",
    "        \"Hara Bhara Kebab\",\n",
    "        \"Vegetable Spring Rolls\",\n",
    "        \"Dhokla\",\n",
    "        \"Aloo Tikki\",\n",
    "        \"Vegetable Samosa\",\n",
    "        \"Stuffed Paneer Tikka (excluding plain Paneer Tikka)\"\n",
    "    ]\n",
    "    \n",
    "    # Suggest a random vegetarian starter (excluding paneer)\n",
    "    print(\"\\nBest vegetarian starters (except paneer):\")\n",
    "    for dish in veg_starters:\n",
    "        print(f\"- {dish}\")\n",
    "\n",
    "# Function to display the full restaurant menu and handle user selection\n",
    "def restaurant_menu():\n",
    "    print(\"Welcome to the Restaurant!\")\n",
    "    \n",
    "    while True:\n",
    "        print(\"\\nMenu:\")\n",
    "        print(\"1. Vegetarian Starters\")\n",
    "        print(\"2. Main Course\")\n",
    "        print(\"3. Desserts\")\n",
    "        print(\"4. Exit\")\n",
    "        \n",
    "        # User selects an option from the menu\n",
    "        choice = input(\"Enter your choice (1/2/3/4): \")\n",
    "        \n",
    "        if choice == '1':\n",
    "            suggest_best_veg_starter()\n",
    "        elif choice == '2':\n",
    "            print(\"\\nMain Course Menu:\")\n",
    "            print(\"1. Veg Biryani\")\n",
    "            print(\"2. Paneer Butter Masala (Not Suggested for Paneer lovers)\")\n",
    "            print(\"3. Dal Tadka\")\n",
    "            print(\"4. Veg Pulao\")\n",
    "            print(\"5. Chole Bhature\")\n",
    "        elif choice == '3':\n",
    "            print(\"\\nDesserts Menu:\")\n",
    "            print(\"1. Gulab Jamun\")\n",
    "            print(\"2. Jalebi\")\n",
    "            print(\"3. Gajar ka Halwa\")\n",
    "            print(\"4. Rasgulla\")\n",
    "        elif choice == '4':\n",
    "            print(\"Thank you for visiting! Goodbye!\")\n",
    "            break  # Exit the menu\n",
    "        else:\n",
    "            print(\"Invalid choice! Please select a valid option.\")\n",
    "\n",
    "# Run the restaurant menu\n",
    "restaurant_menu()\n"
   ]
  },
  {
   "cell_type": "markdown",
   "id": "3056d2c4",
   "metadata": {},
   "source": [
    "Q21. Design an ATM using conditionals."
   ]
  },
  {
   "cell_type": "code",
   "execution_count": 32,
   "id": "f36a5473",
   "metadata": {},
   "outputs": [
    {
     "name": "stdout",
     "output_type": "stream",
     "text": [
      "Welcome to the ATM!\n",
      "Incorrect PIN. You have 2 attempts left.\n",
      "\n",
      "PIN correct. Access granted.\n",
      "\n",
      "ATM Menu:\n",
      "1. Check Balance\n",
      "2. Withdraw Money\n",
      "3. Deposit Money\n",
      "4. Change PIN\n",
      "5. Exit\n",
      "Thank you for using the ATM. Goodbye!\n"
     ]
    }
   ],
   "source": [
    "# Function to display the ATM menu and handle actions\n",
    "def atm_system():\n",
    "    # Initializing ATM details (hardcoded for simplicity)\n",
    "    correct_pin = 1234  # Default PIN\n",
    "    balance = 10000  # Initial balance in the account\n",
    "    attempts = 3  # Number of attempts for entering the PIN\n",
    "    \n",
    "    print(\"Welcome to the ATM!\")\n",
    "\n",
    "    # PIN authentication\n",
    "    while attempts > 0:\n",
    "        entered_pin = int(input(\"Please enter your PIN: \"))\n",
    "        \n",
    "        if entered_pin == correct_pin:\n",
    "            print(\"\\nPIN correct. Access granted.\")\n",
    "            break\n",
    "        else:\n",
    "            attempts -= 1\n",
    "            print(f\"Incorrect PIN. You have {attempts} attempts left.\")\n",
    "            if attempts == 0:\n",
    "                print(\"You have entered the wrong PIN 3 times. Account locked.\")\n",
    "                return  # Exit the program if the PIN is incorrect after 3 attempts\n",
    "\n",
    "    # ATM menu after successful authentication\n",
    "    while True:\n",
    "        print(\"\\nATM Menu:\")\n",
    "        print(\"1. Check Balance\")\n",
    "        print(\"2. Withdraw Money\")\n",
    "        print(\"3. Deposit Money\")\n",
    "        print(\"4. Change PIN\")\n",
    "        print(\"5. Exit\")\n",
    "\n",
    "        choice = input(\"Please select an option (1/2/3/4/5): \")\n",
    "\n",
    "        if choice == '1':\n",
    "            # Check balance\n",
    "            print(f\"Your current balance is: {balance}.\")\n",
    "\n",
    "        elif choice == '2':\n",
    "            # Withdraw money\n",
    "            try:\n",
    "                amount = float(input(\"Enter the amount to withdraw: \"))\n",
    "                if amount <= balance:\n",
    "                    balance -= amount\n",
    "                    print(f\"Transaction successful! You have withdrawn {amount}. Your new balance is {balance}.\")\n",
    "                else:\n",
    "                    print(\"Insufficient funds!\")\n",
    "            except ValueError:\n",
    "                print(\"Invalid amount entered!\")\n",
    "\n",
    "        elif choice == '3':\n",
    "            # Deposit money\n",
    "            try:\n",
    "                amount = float(input(\"Enter the amount to deposit: \"))\n",
    "                balance += amount\n",
    "                print(f\"Transaction successful! You have deposited {amount}. Your new balance is {balance}.\")\n",
    "            except ValueError:\n",
    "                print(\"Invalid amount entered!\")\n",
    "\n",
    "        elif choice == '4':\n",
    "            # Change PIN\n",
    "            new_pin = int(input(\"Enter your new PIN: \"))\n",
    "            confirm_pin = int(input(\"Confirm your new PIN: \"))\n",
    "            \n",
    "            if new_pin == confirm_pin:\n",
    "                correct_pin = new_pin\n",
    "                print(\"Your PIN has been successfully changed.\")\n",
    "            else:\n",
    "                print(\"PINs do not match. Try again.\")\n",
    "\n",
    "        elif choice == '5':\n",
    "            # Exit\n",
    "            print(\"Thank you for using the ATM. Goodbye!\")\n",
    "            break\n",
    "\n",
    "        else:\n",
    "            print(\"Invalid choice! Please select a valid option.\")\n",
    "\n",
    "# Run the ATM system\n",
    "atm_system()\n"
   ]
  },
  {
   "cell_type": "code",
   "execution_count": null,
   "id": "e3d976f5",
   "metadata": {},
   "outputs": [],
   "source": []
  }
 ],
 "metadata": {
  "kernelspec": {
   "display_name": "Python 3",
   "language": "python",
   "name": "python3"
  },
  "language_info": {
   "codemirror_mode": {
    "name": "ipython",
    "version": 3
   },
   "file_extension": ".py",
   "mimetype": "text/x-python",
   "name": "python",
   "nbconvert_exporter": "python",
   "pygments_lexer": "ipython3",
   "version": "3.12.6"
  }
 },
 "nbformat": 4,
 "nbformat_minor": 5
}
